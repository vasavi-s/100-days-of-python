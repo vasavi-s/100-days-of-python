{
  "nbformat": 4,
  "nbformat_minor": 0,
  "metadata": {
    "colab": {
      "name": "Data types_excercise _3.ipynb",
      "provenance": [],
      "collapsed_sections": []
    },
    "kernelspec": {
      "name": "python3",
      "display_name": "Python 3"
    },
    "language_info": {
      "name": "python"
    }
  },
  "cells": [
    {
      "cell_type": "code",
      "metadata": {
        "colab": {
          "base_uri": "https://localhost:8080/"
        },
        "id": "Wq0pG_9NBA2u",
        "outputId": "8fad0e3b-ca81-4053-9044-4a7cc36b4841"
      },
      "source": [
        "age=input(\"What is you current age: \")\n",
        "age_as_int=int(age)\n",
        "years_remaining= 90-age_as_int\n",
        "print(years_remaining)\n",
        "days_remaining=years_remaining* 365\n",
        "weeks_remaining=years_remaining*52\n",
        "month_remaining=years_remaining*12\n",
        "message=f\"you have x {days_remaining} days, {weeks_remaining}weeks, and {month_remaining} months left.\"\n",
        "print(message)"
      ],
      "execution_count": 2,
      "outputs": [
        {
          "output_type": "stream",
          "text": [
            "What is you current age: 20\n",
            "70\n",
            "you have x 25550 days, 3640weeks, and 840 months left.\n"
          ],
          "name": "stdout"
        }
      ]
    },
    {
      "cell_type": "code",
      "metadata": {
        "id": "hnsaoyKHDLIw"
      },
      "source": [
        ""
      ],
      "execution_count": null,
      "outputs": []
    }
  ]
}