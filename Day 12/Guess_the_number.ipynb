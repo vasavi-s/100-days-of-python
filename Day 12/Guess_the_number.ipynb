{
  "nbformat": 4,
  "nbformat_minor": 0,
  "metadata": {
    "colab": {
      "name": "Guess the number.ipynb",
      "provenance": []
    },
    "kernelspec": {
      "name": "python3",
      "display_name": "Python 3"
    },
    "language_info": {
      "name": "python"
    }
  },
  "cells": [
    {
      "cell_type": "code",
      "metadata": {
        "colab": {
          "base_uri": "https://localhost:8080/"
        },
        "id": "_Qt0LZh7eNVq",
        "outputId": "fa144380-ede9-4bb2-87df-5a892a4712de"
      },
      "source": [
        "from random import randint\n",
        "logo = \"\"\"\n",
        "  / _ \\_   _  ___  ___ ___  /__   \\ |__   ___    /\\ \\ \\_   _ _ __ ___ | |__   ___ _ __ \n",
        " / /_\\/ | | |/ _ \\/ __/ __|   / /\\/ '_ \\ / _ \\  /  \\/ / | | | '_ ` _ \\| '_ \\ / _ \\ '__|\n",
        "/ /_\\\\| |_| |  __/\\__ \\__ \\  / /  | | | |  __/ / /\\  /| |_| | | | | | | |_) |  __/ |   \n",
        "\\____/ \\__,_|\\___||___/___/  \\/   |_| |_|\\___| \\_\\ \\/  \\__,_|_| |_| |_|_.__/ \\___|_|  \n",
        "\"\"\"\n",
        "EAST_LEVEL_TURNS=10\n",
        "HARD_LEVEL_TURNS=5\n",
        "def check_answer(guess, answer, turns):\n",
        "  \"\"\"check answer  against guess. Retur the number of turns remaining.\"\"\"\n",
        "  if guess > answer:\n",
        "    print(\"Too high.\")\n",
        "    return turns-1\n",
        "  elif guess< answer:\n",
        "    print(\"Too low.\")\n",
        "    return turns-1\n",
        "  else:\n",
        "    print(f\"You got it! answer was {answer}.\")\n",
        "def set_difficulty():\n",
        "  level=input(\"Choose a difficulty. Type 'easy' or 'hard': \")\n",
        "  if level==\"easy\":\n",
        "    global turns\n",
        "    return EAST_LEVEL_TURNS\n",
        "  else:\n",
        "    return HARD_LEVEL_TURNS\n",
        "\n",
        "def game():\n",
        "  print(logo)\n",
        "  print(\"Welcome to the Number Guessing Game!\")\n",
        "  print(\"I'm thinking of a number  between 1 and 100.\")\n",
        "  answer=randint(1,100)\n",
        "\n",
        "  print(f\"Pssst, the correct answer is {answer}\")\n",
        "\n",
        "  turns=set_difficulty()\n",
        "  \n",
        "  guess=0\n",
        "  while guess!=answer:\n",
        "    print(f\"You have {turns} attempts  remaining to guess the number.\")\n",
        "    guess=int(input(\"Make a guess: \"))\n",
        "    turns=check_answer(guess, answer,turns)\n",
        "    if turns==0:\n",
        "      print(\"you've run of guesses, you lose.\")\n",
        "      return\n",
        "    elif guess!=answer: \n",
        "      print(\"Guess again.\")\n",
        "game()"
      ],
      "execution_count": 2,
      "outputs": [
        {
          "output_type": "stream",
          "text": [
            "\n",
            "  / _ \\_   _  ___  ___ ___  /__   \\ |__   ___    /\\ \\ \\_   _ _ __ ___ | |__   ___ _ __ \n",
            " / /_\\/ | | |/ _ \\/ __/ __|   / /\\/ '_ \\ / _ \\  /  \\/ / | | | '_ ` _ \\| '_ \\ / _ \\ '__|\n",
            "/ /_\\| |_| |  __/\\__ \\__ \\  / /  | | | |  __/ / /\\  /| |_| | | | | | | |_) |  __/ |   \n",
            "\\____/ \\__,_|\\___||___/___/  \\/   |_| |_|\\___| \\_\\ \\/  \\__,_|_| |_| |_|_.__/ \\___|_|  \n",
            "\n",
            "Welcome to the Number Guessing Game!\n",
            "I'm thinking of a number  between 1 and 100.\n",
            "Pssst, the correct answer is 63\n",
            "Choose a difficulty. Type 'easy' or 'hard': hard\n",
            "You have 5 attempts  remaining to guess the number.\n",
            "Make a guess: 43\n",
            "Too low.\n",
            "Guess again.\n",
            "You have 4 attempts  remaining to guess the number.\n",
            "Make a guess: 24\n",
            "Too low.\n",
            "Guess again.\n",
            "You have 3 attempts  remaining to guess the number.\n",
            "Make a guess: 66\n",
            "Too high.\n",
            "Guess again.\n",
            "You have 2 attempts  remaining to guess the number.\n",
            "Make a guess: 87\n",
            "Too high.\n",
            "Guess again.\n",
            "You have 1 attempts  remaining to guess the number.\n",
            "Make a guess: 45\n",
            "Too low.\n",
            "you've run of guesses, you lose.\n"
          ],
          "name": "stdout"
        }
      ]
    }
  ]
}