{
  "nbformat": 4,
  "nbformat_minor": 0,
  "metadata": {
    "colab": {
      "name": "rock-paper-scissors.ipynb",
      "provenance": []
    },
    "kernelspec": {
      "name": "python3",
      "display_name": "Python 3"
    },
    "language_info": {
      "name": "python"
    }
  },
  "cells": [
    {
      "cell_type": "code",
      "metadata": {
        "colab": {
          "base_uri": "https://localhost:8080/"
        },
        "id": "8xSL75FbqMlN",
        "outputId": "a293ead9-e40f-4e4c-851f-ba90175d3782"
      },
      "source": [
        "import random\n",
        "\n",
        "rock = '''\n",
        "    _______\n",
        "---'   ____)\n",
        "      (_____)\n",
        "      (_____)\n",
        "      (____)\n",
        "---.__(___)\n",
        "'''\n",
        "\n",
        "paper = '''\n",
        "    _______\n",
        "---'   ____)____\n",
        "          ______)\n",
        "          _______)\n",
        "         _______)\n",
        "---.__________)\n",
        "'''\n",
        "\n",
        "scissors = '''\n",
        "    _______\n",
        "---'   ____)____\n",
        "          ______)\n",
        "       __________)\n",
        "      (____)\n",
        "---.__(___)\n",
        "'''\n",
        "game_images=[rock, paper,scissors]\n",
        "user_choice=int(input(\"What do you choose? Type 0 for Rock, 1 for Paper or 2 for Scissors.\"))\n",
        "print(game_images[user_choice])\n",
        "computer_choice=random.randint(0,2)\n",
        "print(\"computer chose \")\n",
        "print(game_images[computer_choice])\n",
        "if user_choice>=3 or user_choice<0:\n",
        "  print(\"You typed an invalid number, you lose!\")\n",
        "elif user_choice==0 and computer_choice==2:\n",
        "  print(\"You wins!\")\n",
        "elif computer_choice==0 and user_choice==2:\n",
        "  print(\"You lose\")\n",
        "elif user_choice>computer_choice:\n",
        "  print(\"you win!\")\n",
        "elif computer_choice>user_choice:\n",
        "  print(\"You lose\")\n",
        "elif computer_choice==user_choice:\n",
        "  print(\"It's a draw\")\n"
      ],
      "execution_count": 24,
      "outputs": [
        {
          "output_type": "stream",
          "text": [
            "What do you choose? Type 0 for Rock, 1 for Paper or 2 for Scissors.0\n",
            "\n",
            "    _______\n",
            "---'   ____)\n",
            "      (_____)\n",
            "      (_____)\n",
            "      (____)\n",
            "---.__(___)\n",
            "\n",
            "computer chose \n",
            "\n",
            "    _______\n",
            "---'   ____)\n",
            "      (_____)\n",
            "      (_____)\n",
            "      (____)\n",
            "---.__(___)\n",
            "\n",
            "It's a draw\n"
          ],
          "name": "stdout"
        }
      ]
    }
  ]
}