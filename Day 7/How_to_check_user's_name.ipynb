{
  "nbformat": 4,
  "nbformat_minor": 0,
  "metadata": {
    "colab": {
      "name": "How to check user's name.ipynb",
      "provenance": []
    },
    "kernelspec": {
      "name": "python3",
      "display_name": "Python 3"
    },
    "language_info": {
      "name": "python"
    }
  },
  "cells": [
    {
      "cell_type": "code",
      "metadata": {
        "colab": {
          "base_uri": "https://localhost:8080/"
        },
        "id": "5ba2mWmvsnJH",
        "outputId": "d6e5dfc2-7db8-4e52-ffb3-21d888797442"
      },
      "source": [
        "word_list = [\"aardvark\", \"baboon\", \"camel\"]\n",
        "import random\n",
        "chosen_word=random.choice(word_list)\n",
        "guess=input(\"Guess a letter: \").lower()\n",
        "\n",
        "for letter in chosen_word:\n",
        "  if letter==guess:\n",
        "    print(\"Right\")\n",
        "  else:\n",
        "    print(\"Wrong\")"
      ],
      "execution_count": 7,
      "outputs": [
        {
          "output_type": "stream",
          "text": [
            "Guess a letter: a\n",
            "Right\n",
            "Right\n",
            "Wrong\n",
            "Wrong\n",
            "Wrong\n",
            "Right\n",
            "Wrong\n",
            "Wrong\n"
          ],
          "name": "stdout"
        }
      ]
    },
    {
      "cell_type": "code",
      "metadata": {
        "id": "ZRhoedPHtKxf"
      },
      "source": [
        ""
      ],
      "execution_count": 3,
      "outputs": []
    }
  ]
}