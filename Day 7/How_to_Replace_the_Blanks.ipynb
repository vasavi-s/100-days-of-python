{
  "nbformat": 4,
  "nbformat_minor": 0,
  "metadata": {
    "colab": {
      "name": "How to Replace the Blanks.ipynb",
      "provenance": []
    },
    "kernelspec": {
      "name": "python3",
      "display_name": "Python 3"
    },
    "language_info": {
      "name": "python"
    }
  },
  "cells": [
    {
      "cell_type": "code",
      "metadata": {
        "colab": {
          "base_uri": "https://localhost:8080/"
        },
        "id": "5ba2mWmvsnJH",
        "outputId": "68385865-477e-49e2-eec5-363c3d4d8a3e"
      },
      "source": [
        "import random\n",
        "word_list = [\"aardvark\", \"baboon\", \"camel\"]\n",
        "chosen_word = random.choice(word_list)\n",
        "print(f'Pssst, the solution is {chosen_word}.')\n",
        "display=[]\n",
        "word_length=len(chosen_word)\n",
        "for letters in range(word_length):\n",
        "  display+=\"_\"\n",
        "print(display)\n",
        "guess = input(\"Guess a letter: \").lower()\n",
        "for position in range(word_length):\n",
        "  letter=chosen_word[position]\n",
        "  if letter == guess:\n",
        "    display[position]=letter\n",
        "print(display)\n",
        "\n"
      ],
      "execution_count": 8,
      "outputs": [
        {
          "output_type": "stream",
          "text": [
            "Pssst, the solution is aardvark.\n",
            "['_', '_', '_', '_', '_', '_', '_', '_']\n",
            "Guess a letter: r\n",
            "['_', '_', 'r', '_', '_', '_', 'r', '_']\n"
          ],
          "name": "stdout"
        }
      ]
    },
    {
      "cell_type": "code",
      "metadata": {
        "id": "ZRhoedPHtKxf"
      },
      "source": [
        ""
      ],
      "execution_count": 3,
      "outputs": []
    }
  ]
}