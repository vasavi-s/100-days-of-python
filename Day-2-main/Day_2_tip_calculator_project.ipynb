{
  "nbformat": 4,
  "nbformat_minor": 0,
  "metadata": {
    "colab": {
      "name": "Day 2 tip_calculator_project.ipynb",
      "provenance": [],
      "collapsed_sections": []
    },
    "kernelspec": {
      "name": "python3",
      "display_name": "Python 3"
    },
    "language_info": {
      "name": "python"
    }
  },
  "cells": [
    {
      "cell_type": "code",
      "metadata": {
        "colab": {
          "base_uri": "https://localhost:8080/"
        },
        "id": "Wq0pG_9NBA2u",
        "outputId": "da08035d-1d27-485c-9f45-d809dc847356"
      },
      "source": [
        "print(\"Welcome to the tip calculator\")\n",
        "bill=float(input(\"what was the total bill? $\"))\n",
        "tip=int(input(\"What percentage tip would you like to give? 10, 12 or 15? \"))\n",
        "people=int(input(\"How many people to split the bill: \"))\n",
        "tip_as_percent=tip/100\n",
        "total_tip_amount=bill*tip_as_percent\n",
        "total_bill=bill+total_tip_amount\n",
        "bill_per_person=total_bill/people\n",
        "final_amount=round(bill_per_person,2)\n",
        "print(f\"Each person should pay: ${final_amount}\")\n"
      ],
      "execution_count": 6,
      "outputs": [
        {
          "output_type": "stream",
          "text": [
            "Welcome to the tip calculator\n",
            "what was the total bill? $153.45\n",
            "What percentage tip would you like to give? 10, 12 or 15? 15\n",
            "How many people to split the bill: 5\n",
            "Each person should pay: $35.29\n"
          ],
          "name": "stdout"
        }
      ]
    }
  ]
}