{
  "nbformat": 4,
  "nbformat_minor": 0,
  "metadata": {
    "colab": {
      "name": "Data types_excercise _1.ipynb",
      "provenance": [],
      "collapsed_sections": []
    },
    "kernelspec": {
      "name": "python3",
      "display_name": "Python 3"
    },
    "language_info": {
      "name": "python"
    }
  },
  "cells": [
    {
      "cell_type": "code",
      "metadata": {
        "colab": {
          "base_uri": "https://localhost:8080/"
        },
        "id": "Wq0pG_9NBA2u",
        "outputId": "d0369c2d-8d92-422a-d868-e9150aa18d2c"
      },
      "source": [
        "two_digit_number=input(\"Enter two digit number\")\n",
        "first_digit=two_digit_number[0]\n",
        "second_digit=two_digit_number[1]\n",
        "result=int(first_digit)+int(second_digit)\n",
        "print(result)"
      ],
      "execution_count": 1,
      "outputs": [
        {
          "output_type": "stream",
          "text": [
            "Enter two digit number39\n",
            "12\n"
          ],
          "name": "stdout"
        }
      ]
    }
  ]
}