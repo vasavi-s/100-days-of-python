{
  "nbformat": 4,
  "nbformat_minor": 0,
  "metadata": {
    "colab": {
      "name": "Password-generator.ipynb",
      "provenance": []
    },
    "kernelspec": {
      "name": "python3",
      "display_name": "Python 3"
    },
    "language_info": {
      "name": "python"
    }
  },
  "cells": [
    {
      "cell_type": "code",
      "metadata": {
        "colab": {
          "base_uri": "https://localhost:8080/"
        },
        "id": "Q_CdSpjJZk3D",
        "outputId": "244edd7f-8a69-460a-b6ed-083e68f7989a"
      },
      "source": [
        "import random\n",
        "letters = ['a', 'b', 'c', 'd', 'e', 'f', 'g', 'h', 'i', 'j', 'k', 'l', 'm', 'n', 'o', 'p', 'q', 'r', 's', 't', 'u', 'v', 'w', 'x', 'y', 'z', 'A', 'B', 'C', 'D', 'E', 'F', 'G', 'H', 'I', 'J', 'K', 'L', 'M', 'N', 'O', 'P', 'Q', 'R', 'S', 'T', 'U', 'V', 'W', 'X', 'Y', 'Z']\n",
        "numbers = ['0', '1', '2', '3', '4', '5', '6', '7', '8', '9']\n",
        "symbols = ['!', '#', '$', '%', '&', '(', ')', '*', '+']\n",
        "print(\"Welcome to the PyPassword Generator!\")\n",
        "nr_letters= int(input(\"How many letters would you like in your password?\\n\")) \n",
        "nr_symbols = int(input(f\"How many symbols would you like?\\n\"))\n",
        "nr_numbers = int(input(f\"How many numbers would you like?\\n\"))\n",
        "#easy level\n",
        "#password=\"\"\n",
        "#for char in range(1, nr_letters):\n",
        " # password+=random.choice(letters)\n",
        "#for char in range(1, nr_symbols):\n",
        "#  passwword+=random.choice(symbols)\n",
        "#for char in range(1, nr_numbers+1):\n",
        "#  password+=random.choice(numbers)\n",
        "#print(password)\n",
        "\n",
        "#Hard level\n",
        "password_list=[]\n",
        "for char in range(1, nr_letters+1):\n",
        "  password_list.append(random.choice(letters))\n",
        "for char in range(1, nr_symbols+1):\n",
        "  password_list+=random.choice(symbols)\n",
        "for char in range(1, nr_numbers+1):\n",
        "  password_list+=random.choice(numbers)\n",
        "print(password_list)\n",
        "random.shuffle(password_list)\n",
        "password=\"\"\n",
        "for char in password_list:\n",
        "  password+=char\n",
        "print(f\"you password is : {password}\")\n"
      ],
      "execution_count": 19,
      "outputs": [
        {
          "output_type": "stream",
          "text": [
            "Welcome to the PyPassword Generator!\n",
            "How many letters would you like in your password?\n",
            "12\n",
            "How many symbols would you like?\n",
            "4\n",
            "How many numbers would you like?\n",
            "5\n",
            "['w', 'J', 'D', 'k', 'v', 'h', 'G', 'e', 'H', 'D', 'o', 'Y', '(', '!', '$', '*', '5', '4', '7', '1', '5']\n",
            "you password is : 1JG7e!DDYwo*45$vH(k5h\n"
          ],
          "name": "stdout"
        }
      ]
    }
  ]
}