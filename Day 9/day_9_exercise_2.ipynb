{
  "nbformat": 4,
  "nbformat_minor": 0,
  "metadata": {
    "colab": {
      "name": "day 9 exercise 2.ipynb",
      "provenance": []
    },
    "kernelspec": {
      "name": "python3",
      "display_name": "Python 3"
    },
    "language_info": {
      "name": "python"
    }
  },
  "cells": [
    {
      "cell_type": "code",
      "metadata": {
        "colab": {
          "base_uri": "https://localhost:8080/"
        },
        "id": "XtrwQyT81tzy",
        "outputId": "0bb60bf5-3359-4b2e-bdfd-91986aff8323"
      },
      "source": [
        "travel_log = [\n",
        "{\n",
        "  \"country\": \"France\",\n",
        "  \"visits\": 12,\n",
        "  \"cities\": [\"Paris\", \"Lille\", \"Dijon\"]\n",
        "},\n",
        "{\n",
        "  \"country\": \"Germany\",\n",
        "  \"visits\": 5,\n",
        "  \"cities\": [\"Berlin\", \"Hamburg\", \"Stuttgart\"]\n",
        "},\n",
        "]\n",
        "def add_new_country(name, visit_count, cities_visited):\n",
        "  new_country = {}\n",
        "  new_country[\"country\"] = name\n",
        "  new_country[\"visits\"] = visit_count\n",
        "  new_country[\"cities\"] = cities_visited\n",
        "  travel_log.append(new_country)\n",
        "add_new_country(\"Russia\", 2, [\"Moscow\", \"Saint Petersburg\"])\n",
        "print(travel_log)\n"
      ],
      "execution_count": 1,
      "outputs": [
        {
          "output_type": "stream",
          "text": [
            "{'Harry': 'Exceeds Expectations', 'Ron': 'Acceptable', 'Hermione': 'Outstanding', 'Draco': 'Acceptable', 'Neville': 'Fail'}\n"
          ],
          "name": "stdout"
        }
      ]
    }
  ]
}