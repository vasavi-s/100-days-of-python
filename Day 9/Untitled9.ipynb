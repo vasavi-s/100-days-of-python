{
  "nbformat": 4,
  "nbformat_minor": 0,
  "metadata": {
    "colab": {
      "name": "Untitled9.ipynb",
      "provenance": []
    },
    "kernelspec": {
      "name": "python3",
      "display_name": "Python 3"
    },
    "language_info": {
      "name": "python"
    }
  },
  "cells": [
    {
      "cell_type": "code",
      "metadata": {
        "colab": {
          "base_uri": "https://localhost:8080/"
        },
        "id": "XtrwQyT81tzy",
        "outputId": "0bb60bf5-3359-4b2e-bdfd-91986aff8323"
      },
      "source": [
        "student_scores = {\n",
        "  \"Harry\": 81,\n",
        "  \"Ron\": 78,\n",
        "  \"Hermione\": 99, \n",
        "  \"Draco\": 74,\n",
        "  \"Neville\": 62,\n",
        "}\n",
        "student_grades={}\n",
        "for student in student_scores:\n",
        "  score=student_scores[student]\n",
        "  if score>90:\n",
        "    student_grades[student]=\"Outstanding\"\n",
        "  elif score>80:\n",
        "    student_grades[student]=\"Exceeds Expectations\"\n",
        "  elif score>70:\n",
        "    student_grades[student]=\"Acceptable\"\n",
        "  else:\n",
        "    student_grades[student]=\"Fail\"\n",
        "print(student_grades)\n",
        "\n",
        "\n",
        "\n",
        "\n",
        "\n"
      ],
      "execution_count": 1,
      "outputs": [
        {
          "output_type": "stream",
          "text": [
            "{'Harry': 'Exceeds Expectations', 'Ron': 'Acceptable', 'Hermione': 'Outstanding', 'Draco': 'Acceptable', 'Neville': 'Fail'}\n"
          ],
          "name": "stdout"
        }
      ]
    }
  ]
}