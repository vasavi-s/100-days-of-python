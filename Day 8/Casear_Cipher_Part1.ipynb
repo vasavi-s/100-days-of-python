{
  "nbformat": 4,
  "nbformat_minor": 0,
  "metadata": {
    "colab": {
      "name": "Casear Cipher Part1.ipynb",
      "provenance": []
    },
    "kernelspec": {
      "name": "python3",
      "display_name": "Python 3"
    },
    "language_info": {
      "name": "python"
    }
  },
  "cells": [
    {
      "cell_type": "code",
      "metadata": {
        "colab": {
          "base_uri": "https://localhost:8080/"
        },
        "id": "kVpriIQEMF1S",
        "outputId": "036e831f-cff3-474b-b0dd-3b0c5a4a3fd9"
      },
      "source": [
        "alphabet = ['a', 'b', 'c', 'd', 'e', 'f', 'g', 'h', 'i', 'j', 'k', 'l', 'm', 'n', 'o', 'p', 'q', 'r', 's', 't', 'u', 'v', 'w', 'x', 'y', 'z', 'a', 'b', 'c', 'd', 'e', 'f', 'g', 'h', 'i', 'j', 'k', 'l', 'm', 'n', 'o', 'p', 'q', 'r', 's', 't', 'u', 'v', 'w', 'x', 'y', 'z']\n",
        "direction = input(\"Type 'encode' to encrypt, type 'decode' to decrypt:\\n\")\n",
        "text = input(\"Type your message:\\n\").lower()\n",
        "shift = int(input(\"Type the shift number:\\n\"))\n",
        "def encrypt(plain_text, shift_amount):\n",
        "  cipher_text=\"\"\n",
        "  for letter in plain_text:\n",
        "    position=alphabet.index(letter)\n",
        "    new_position=position+shift_amount\n",
        "    new_letter=alphabet[new_position]\n",
        "    cipher_text+=new_letter\n",
        "  print(f\"The encoded text is {cipher_text}\")\n",
        "  \n",
        "encrypt(plain_text=text, shift_amount=shift)"
      ],
      "execution_count": 8,
      "outputs": [
        {
          "output_type": "stream",
          "text": [
            "Type 'encode' to encrypt, type 'decode' to decrypt:\n",
            "\n",
            "Type your message:\n",
            "positive\n",
            "Type the shift number:\n",
            "6\n",
            "The encoded text is vuyozobk\n"
          ],
          "name": "stdout"
        }
      ]
    }
  ]
}