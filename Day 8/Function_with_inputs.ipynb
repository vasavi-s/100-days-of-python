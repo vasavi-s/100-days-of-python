{
  "nbformat": 4,
  "nbformat_minor": 0,
  "metadata": {
    "colab": {
      "name": "Function with inputs.ipynb",
      "provenance": []
    },
    "kernelspec": {
      "name": "python3",
      "display_name": "Python 3"
    },
    "language_info": {
      "name": "python"
    }
  },
  "cells": [
    {
      "cell_type": "code",
      "metadata": {
        "colab": {
          "base_uri": "https://localhost:8080/"
        },
        "id": "kVpriIQEMF1S",
        "outputId": "1f1f2caa-5f0f-490d-accb-fd7668d52442"
      },
      "source": [
        "def greet():\n",
        "  print(\"Hello\")\n",
        "  print(\"how do you do?\")\n",
        "  print(\"Isn't the weather nice today?\")\n",
        "greet()\n",
        "\n",
        "def greet_with_name(name):\n",
        "  print(f\"Hello {name}\")\n",
        "  print(f\"how do you do {name}?\")\n",
        "\n",
        "greet_with_name(\"vasavi\")\n"
      ],
      "execution_count": 1,
      "outputs": [
        {
          "output_type": "stream",
          "text": [
            "Hello\n",
            "how do you do?\n",
            "Isn't the weather nice today?\n",
            "Hello vasavi\n",
            "how do you do vasavi?\n"
          ],
          "name": "stdout"
        }
      ]
    }
  ]
}