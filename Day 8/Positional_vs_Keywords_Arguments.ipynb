{
  "nbformat": 4,
  "nbformat_minor": 0,
  "metadata": {
    "colab": {
      "name": "Positional vs Keywords Arguments.ipynb",
      "provenance": []
    },
    "kernelspec": {
      "name": "python3",
      "display_name": "Python 3"
    },
    "language_info": {
      "name": "python"
    }
  },
  "cells": [
    {
      "cell_type": "code",
      "metadata": {
        "colab": {
          "base_uri": "https://localhost:8080/"
        },
        "id": "kVpriIQEMF1S",
        "outputId": "c6d430ed-8fe8-4c2f-dd9c-e8f2f3a26e88"
      },
      "source": [
        "#def greet():\n",
        "  #print(\"Hello\")\n",
        "  #print(\"how do you do?\")\n",
        " # print(\"Isn't the weather nice today?\")\n",
        "#greet()\n",
        "\n",
        "#def greet_with_name(name):\n",
        "  #print(f\"Hello {name}\")\n",
        "  #print(f\"how do you do {name}?\")\n",
        "#greet_with_name(\"vasavi\")\n",
        "\n",
        "def greet_with(name, location):\n",
        "  print(f\"Hello {name}\")\n",
        "  print(f\"what is it like in {location}\")\n",
        "\n",
        "greet_with(\"vasavi\", \"India\")"
      ],
      "execution_count": 6,
      "outputs": [
        {
          "output_type": "stream",
          "text": [
            "Hello vasavi\n",
            "what is it like in India\n"
          ],
          "name": "stdout"
        }
      ]
    }
  ]
}