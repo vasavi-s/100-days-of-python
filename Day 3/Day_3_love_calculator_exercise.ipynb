{
  "nbformat": 4,
  "nbformat_minor": 0,
  "metadata": {
    "colab": {
      "name": "Day 3 love calculator_exercise.ipynb",
      "provenance": [],
      "collapsed_sections": []
    },
    "kernelspec": {
      "name": "python3",
      "display_name": "Python 3"
    },
    "language_info": {
      "name": "python"
    }
  },
  "cells": [
    {
      "cell_type": "code",
      "metadata": {
        "colab": {
          "base_uri": "https://localhost:8080/"
        },
        "id": "Wq0pG_9NBA2u",
        "outputId": "4327d99c-7728-49d2-f433-2e7f72248009"
      },
      "source": [
        "print(\"Welcome to the love calculator\")\n",
        "name1=input(\"what is you name: \")\n",
        "name2=input(\"What is their name: \")\n",
        "combined_string=name1+name2\n",
        "lower_case_string=combined_string.lower()\n",
        "t=lower_case_string.count(\"t\")\n",
        "r=lower_case_string.count(\"r\")\n",
        "u=lower_case_string.count(\"u\")\n",
        "e=lower_case_string.count(\"e\")\n",
        "true=t+r+u+e\n",
        "l=lower_case_string.count(\"l\")\n",
        "o=lower_case_string.count(\"o\")\n",
        "v=lower_case_string.count(\"v\")\n",
        "e=lower_case_string.count(\"e\")\n",
        "love=l+o+v+e\n",
        "love_score=int(str(true)+str(love))\n",
        "if (love_score <10) or (love_score >90):\n",
        "  print(f\"you love score  is {love_score}, and you go together like coke and mentos\")\n",
        "elif (love_score >=40) and (love_score <=50):\n",
        "  print(f\"you score is {love_score}, you are alright together.\")\n",
        "else:\n",
        "  print(f\"you score is {love_score}\")"
      ],
      "execution_count": 21,
      "outputs": [
        {
          "output_type": "stream",
          "text": [
            "Welcome to the love calculator\n",
            "what is you name: Kanye West\n",
            "What is their name: Kim Kardashian \n",
            "42\n",
            "you score is 42, you are alright together.\n"
          ],
          "name": "stdout"
        }
      ]
    }
  ]
}